{
 "cells": [
  {
   "cell_type": "code",
   "execution_count": null,
   "id": "ef9b1651",
   "metadata": {},
   "outputs": [],
   "source": []
  },
  {
   "cell_type": "code",
   "execution_count": 19,
   "id": "9a73649a",
   "metadata": {},
   "outputs": [
    {
     "name": "stdout",
     "output_type": "stream",
     "text": [
      "(0, 'customer_id', 'VARCHAR', 1, None, 1)\n",
      "(1, 'full_name', 'VARCHAR', 0, None, 0)\n",
      "(2, 'date_of_birth', 'VARCHAR', 0, None, 0)\n",
      "(3, 'email', 'VARCHAR', 0, None, 0)\n",
      "(4, 'customer_pwd', 'VARCHAR', 0, None, 0)\n",
      "(5, 'phone_number', 'VARCHAR', 0, None, 0)\n",
      "(6, 'identity_type', 'VARCHAR', 0, None, 0)\n",
      "(7, 'identity_number', 'VARCHAR', 0, None, 0)\n",
      "(8, 'created_at', 'VARCHAR', 0, None, 0)\n"
     ]
    }
   ],
   "source": [
    "import sqlite3\n",
    "\n",
    "conn = sqlite3.connect('database/banking.db')\n",
    "cursor = conn.cursor()\n",
    "\n",
    "cursor.execute(\"PRAGMA table_info(customer)\")\n",
    "for row in cursor.fetchall():\n",
    "    print(row)\n"
   ]
  },
  {
   "cell_type": "code",
   "execution_count": 20,
   "id": "e552218f",
   "metadata": {},
   "outputs": [],
   "source": [
    "cursor.execute(\"SELECT * FROM customer\")\n",
    "for row in cursor.fetchall():\n",
    "    print(row)"
   ]
  },
  {
   "cell_type": "code",
   "execution_count": 21,
   "id": "352bde81",
   "metadata": {},
   "outputs": [
    {
     "name": "stdout",
     "output_type": "stream",
     "text": [
      "(0, 'account_id', 'VARCHAR', 1, None, 1)\n",
      "(1, 'customer_id', 'VARCHAR', 0, None, 0)\n",
      "(2, 'account_number', 'VARCHAR', 0, None, 0)\n",
      "(3, 'account_type', 'VARCHAR', 0, None, 0)\n",
      "(4, 'balance', 'BIGINT', 0, None, 0)\n",
      "(5, 'acc_status', 'VARCHAR', 0, None, 0)\n",
      "(6, 'date_opened', 'VARCHAR', 0, None, 0)\n",
      "(7, 'date_closed', 'VARCHAR', 0, None, 0)\n"
     ]
    }
   ],
   "source": [
    "cursor.execute(\"PRAGMA table_info(account)\")\n",
    "for row in cursor.fetchall():\n",
    "    print(row)"
   ]
  },
  {
   "cell_type": "code",
   "execution_count": 22,
   "id": "72ac1adb",
   "metadata": {},
   "outputs": [],
   "source": [
    "\n",
    "cursor.execute(\"SELECT * FROM account\")\n",
    "for row in cursor.fetchall():\n",
    "    print(row)"
   ]
  },
  {
   "cell_type": "code",
   "execution_count": 23,
   "id": "876bd349",
   "metadata": {},
   "outputs": [
    {
     "name": "stdout",
     "output_type": "stream",
     "text": [
      "(0, 'device_id', 'VARCHAR', 1, None, 1)\n",
      "(1, 'device_type', 'VARCHAR', 0, None, 0)\n",
      "(2, 'os', 'VARCHAR', 0, None, 0)\n",
      "(3, 'is_verified', 'BOOLEAN', 0, None, 0)\n",
      "(4, 'first_seen', 'VARCHAR', 0, None, 0)\n",
      "(5, 'last_seen', 'VARCHAR', 0, None, 0)\n",
      "(6, 'app_version', 'VARCHAR', 0, None, 0)\n"
     ]
    }
   ],
   "source": [
    "cursor.execute(\"PRAGMA table_info(device)\")\n",
    "for row in cursor.fetchall():\n",
    "    print(row)"
   ]
  },
  {
   "cell_type": "code",
   "execution_count": 24,
   "id": "b3798485",
   "metadata": {},
   "outputs": [],
   "source": [
    "cursor.execute(\"SELECT * FROM device\")\n",
    "for row in cursor.fetchall():\n",
    "    print(row)"
   ]
  },
  {
   "cell_type": "code",
   "execution_count": 25,
   "id": "16fbbf1c",
   "metadata": {},
   "outputs": [
    {
     "name": "stdout",
     "output_type": "stream",
     "text": [
      "customer\n",
      "device\n",
      "authentication\n",
      "customer_device\n",
      "customer_identity\n",
      "account\n",
      "authentication_log\n",
      "customer_risk\n",
      "device_risk\n",
      "transaction_log\n",
      "auth_transaction\n",
      "transaction_risk\n"
     ]
    }
   ],
   "source": [
    "cursor.execute(\"SELECT name FROM sqlite_master WHERE type='table';\")\n",
    "tables = cursor.fetchall()\n",
    "for table in tables:\n",
    "    print(table[0])"
   ]
  },
  {
   "cell_type": "code",
   "execution_count": 26,
   "id": "f12385ee",
   "metadata": {},
   "outputs": [],
   "source": [
    "cursor.execute(\"SELECT * FROM customer_device\")\n",
    "for row in cursor.fetchall():\n",
    "    print(row)"
   ]
  },
  {
   "cell_type": "code",
   "execution_count": 27,
   "id": "7b4a1ae0",
   "metadata": {},
   "outputs": [
    {
     "name": "stdout",
     "output_type": "stream",
     "text": [
      "(0, 'transaction_id', 'VARCHAR', 1, None, 1)\n",
      "(1, 'account_id', 'VARCHAR', 0, None, 0)\n",
      "(2, 'device_id', 'VARCHAR', 0, None, 0)\n",
      "(3, 'amount', 'BIGINT', 0, None, 0)\n",
      "(4, 'transaction_type', 'VARCHAR', 0, None, 0)\n",
      "(5, 'transaction_time', 'VARCHAR', 0, None, 0)\n",
      "(6, 'description', 'VARCHAR', 0, None, 0)\n",
      "(7, 'status', 'VARCHAR', 0, None, 0)\n"
     ]
    }
   ],
   "source": [
    "cursor.execute(\"PRAGMA table_info(transaction_log)\")\n",
    "for row in cursor.fetchall():\n",
    "    print(row)"
   ]
  },
  {
   "cell_type": "code",
   "execution_count": 28,
   "id": "5fd6979f",
   "metadata": {},
   "outputs": [],
   "source": [
    "cursor.execute(f'''\n",
    "    SELECT * FROM transaction_log\n",
    "    WHERE account_id = '75d54f15-6eec-4780-a665-98ea5bd8e5ef'\n",
    "''', \n",
    ")     \n",
    "\n",
    "for row in cursor.fetchall():\n",
    "    print(row)"
   ]
  }
 ],
 "metadata": {
  "kernelspec": {
   "display_name": "Python 3",
   "language": "python",
   "name": "python3"
  },
  "language_info": {
   "codemirror_mode": {
    "name": "ipython",
    "version": 3
   },
   "file_extension": ".py",
   "mimetype": "text/x-python",
   "name": "python",
   "nbconvert_exporter": "python",
   "pygments_lexer": "ipython3",
   "version": "3.12.1"
  }
 },
 "nbformat": 4,
 "nbformat_minor": 5
}
