{
 "cells": [
  {
   "cell_type": "code",
   "execution_count": null,
   "id": "ef9b1651",
   "metadata": {},
   "outputs": [],
   "source": []
  },
  {
   "cell_type": "code",
   "execution_count": 1,
   "id": "9a73649a",
   "metadata": {},
   "outputs": [
    {
     "name": "stdout",
     "output_type": "stream",
     "text": [
      "(0, 'customer_id', 'VARCHAR', 1, None, 1)\n",
      "(1, 'full_name', 'VARCHAR', 0, None, 0)\n",
      "(2, 'date_of_birth', 'VARCHAR', 0, None, 0)\n",
      "(3, 'email', 'VARCHAR', 0, None, 0)\n",
      "(4, 'customer_pwd', 'VARCHAR', 0, None, 0)\n",
      "(5, 'phone_number', 'VARCHAR', 0, None, 0)\n",
      "(6, 'identity_type', 'VARCHAR', 0, None, 0)\n",
      "(7, 'identity_number', 'VARCHAR', 0, None, 0)\n",
      "(8, 'created_at', 'VARCHAR', 0, None, 0)\n"
     ]
    }
   ],
   "source": [
    "import sqlite3\n",
    "\n",
    "conn = sqlite3.connect('database/banking.db')\n",
    "cursor = conn.cursor()\n",
    "\n",
    "cursor.execute(\"PRAGMA table_info(customer)\")\n",
    "for row in cursor.fetchall():\n",
    "    print(row)\n"
   ]
  },
  {
   "cell_type": "code",
   "execution_count": 2,
   "id": "e552218f",
   "metadata": {},
   "outputs": [
    {
     "name": "stdout",
     "output_type": "stream",
     "text": [
      "('3bcb7707-c29b-4758-bd77-cf1e5b2ce787', 'Daniel Roberts Jr.', '1954-09-10', 'jperry@example.net', '@KNX1idgE8', '874.576.1230x19419', None, None, '2023-11-05T00:20:14.174446')\n",
      "('0c475a95-868b-478a-94c9-e315d3a2e47d', 'Alyssa Sanchez', '2022-12-31', 'bakeremily@example.com', '(8)6Oi7b15', '(337)932-5468x1821', None, None, '2022-01-05T06:16:09.027638')\n",
      "('895205d1-03f4-442d-950d-06c7f834056f', 'Sarah Gonzalez', '1947-05-24', 'sarah16@example.com', 's4KFFq$v)g', '369.598.9260x047', None, None, '2022-07-11T17:00:59.986592')\n"
     ]
    }
   ],
   "source": [
    "cursor.execute(\"SELECT * FROM customer\")\n",
    "for row in cursor.fetchall():\n",
    "    print(row)"
   ]
  },
  {
   "cell_type": "code",
   "execution_count": 3,
   "id": "352bde81",
   "metadata": {},
   "outputs": [
    {
     "name": "stdout",
     "output_type": "stream",
     "text": [
      "(0, 'account_id', 'VARCHAR', 1, None, 1)\n",
      "(1, 'customer_id', 'VARCHAR', 0, None, 0)\n",
      "(2, 'account_number', 'VARCHAR', 0, None, 0)\n",
      "(3, 'account_type', 'VARCHAR', 0, None, 0)\n",
      "(4, 'balance', 'BIGINT', 0, None, 0)\n",
      "(5, 'acc_status', 'VARCHAR', 0, None, 0)\n",
      "(6, 'date_opened', 'VARCHAR', 0, None, 0)\n",
      "(7, 'date_closed', 'VARCHAR', 0, None, 0)\n"
     ]
    }
   ],
   "source": [
    "cursor.execute(\"PRAGMA table_info(account)\")\n",
    "for row in cursor.fetchall():\n",
    "    print(row)"
   ]
  },
  {
   "cell_type": "code",
   "execution_count": 4,
   "id": "72ac1adb",
   "metadata": {},
   "outputs": [
    {
     "name": "stdout",
     "output_type": "stream",
     "text": [
      "('0eac7a47-1e72-46ef-a8b0-76584f9a28e0', '3bcb7707-c29b-4758-bd77-cf1e5b2ce787', '9938836509', 'checking', 6573707, 'inactive', '2023-02-09T00:09:57.617915', None)\n",
      "('4ead75b4-6a73-4326-823f-2293c8e42e0d', '0c475a95-868b-478a-94c9-e315d3a2e47d', '47190949588674', 'savings', 8597070, 'inactive', '2023-05-21T01:19:29.918134', '2020-05-31T15:50:51.357499')\n",
      "('1fc3a10d-7ae5-409c-bd3d-64f2000c08cb', '895205d1-03f4-442d-950d-06c7f834056f', '4098368791', 'savings', 8070368, 'inactive', '2020-10-23T10:38:50.025224', None)\n",
      "('a62bba20-4721-455f-89dc-e08adc270d2e', '895205d1-03f4-442d-950d-06c7f834056f', '96311554488', 'savings', 4311185, 'inactive', '2020-06-24T05:00:39.221472', '2020-02-21T16:43:52.809050')\n"
     ]
    }
   ],
   "source": [
    "\n",
    "cursor.execute(\"SELECT * FROM account\")\n",
    "for row in cursor.fetchall():\n",
    "    print(row)"
   ]
  },
  {
   "cell_type": "code",
   "execution_count": 5,
   "id": "876bd349",
   "metadata": {},
   "outputs": [
    {
     "name": "stdout",
     "output_type": "stream",
     "text": [
      "(0, 'device_id', 'VARCHAR', 1, None, 1)\n",
      "(1, 'device_type', 'VARCHAR', 0, None, 0)\n",
      "(2, 'os', 'VARCHAR', 0, None, 0)\n",
      "(3, 'is_verified', 'BOOLEAN', 0, None, 0)\n",
      "(4, 'first_seen', 'VARCHAR', 0, None, 0)\n",
      "(5, 'last_seen', 'VARCHAR', 0, None, 0)\n",
      "(6, 'app_version', 'VARCHAR', 0, None, 0)\n"
     ]
    }
   ],
   "source": [
    "cursor.execute(\"PRAGMA table_info(device)\")\n",
    "for row in cursor.fetchall():\n",
    "    print(row)"
   ]
  },
  {
   "cell_type": "code",
   "execution_count": 6,
   "id": "b3798485",
   "metadata": {},
   "outputs": [],
   "source": [
    "cursor.execute(\"SELECT * FROM device\")\n",
    "for row in cursor.fetchall():\n",
    "    print(row)"
   ]
  },
  {
   "cell_type": "code",
   "execution_count": 7,
   "id": "16fbbf1c",
   "metadata": {},
   "outputs": [
    {
     "name": "stdout",
     "output_type": "stream",
     "text": [
      "customer\n",
      "device\n",
      "authentication\n",
      "customer_device\n",
      "customer_identity\n",
      "account\n",
      "authentication_log\n",
      "customer_risk\n",
      "device_risk\n",
      "transaction_log\n",
      "auth_transaction\n",
      "transaction_risk\n"
     ]
    }
   ],
   "source": [
    "cursor.execute(\"SELECT name FROM sqlite_master WHERE type='table';\")\n",
    "tables = cursor.fetchall()\n",
    "for table in tables:\n",
    "    print(table[0])"
   ]
  },
  {
   "cell_type": "code",
   "execution_count": 15,
   "id": "f12385ee",
   "metadata": {},
   "outputs": [],
   "source": [
    "cursor.execute(\"SELECT * FROM customer_device\")\n",
    "for row in cursor.fetchall():\n",
    "    print(row)"
   ]
  },
  {
   "cell_type": "code",
   "execution_count": 9,
   "id": "7b4a1ae0",
   "metadata": {},
   "outputs": [
    {
     "name": "stdout",
     "output_type": "stream",
     "text": [
      "(0, 'transaction_id', 'VARCHAR', 1, None, 1)\n",
      "(1, 'account_id', 'VARCHAR', 0, None, 0)\n",
      "(2, 'device_id', 'VARCHAR', 0, None, 0)\n",
      "(3, 'amount', 'BIGINT', 0, None, 0)\n",
      "(4, 'transaction_type', 'VARCHAR', 0, None, 0)\n",
      "(5, 'transaction_time', 'VARCHAR', 0, None, 0)\n",
      "(6, 'description', 'VARCHAR', 0, None, 0)\n",
      "(7, 'status', 'VARCHAR', 0, None, 0)\n"
     ]
    }
   ],
   "source": [
    "cursor.execute(\"PRAGMA table_info(transaction_log)\")\n",
    "for row in cursor.fetchall():\n",
    "    print(row)"
   ]
  },
  {
   "cell_type": "code",
   "execution_count": 14,
   "id": "5fd6979f",
   "metadata": {},
   "outputs": [],
   "source": [
    "account_id = '0eac7a47-1e72-46ef-a8b0-76584f9a28e0'\n",
    "\n",
    "cursor.execute(f'''\n",
    "    SELECT * FROM transaction_log\n",
    "    WHERE account_id = '{account_id}'\n",
    "    \n",
    "''', \n",
    ")     \n",
    "\n",
    "cursor.execute(\"SELECT * FROM transaction_log\")\n",
    "for row in cursor.fetchall():\n",
    "    print(row)\n",
    "\n",
    "for row in cursor.fetchall():\n",
    "    print(row)"
   ]
  }
 ],
 "metadata": {
  "kernelspec": {
   "display_name": "Python 3",
   "language": "python",
   "name": "python3"
  },
  "language_info": {
   "codemirror_mode": {
    "name": "ipython",
    "version": 3
   },
   "file_extension": ".py",
   "mimetype": "text/x-python",
   "name": "python",
   "nbconvert_exporter": "python",
   "pygments_lexer": "ipython3",
   "version": "3.12.1"
  }
 },
 "nbformat": 4,
 "nbformat_minor": 5
}
